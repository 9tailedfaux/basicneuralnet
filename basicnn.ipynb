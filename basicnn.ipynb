{
 "cells": [
  {
   "cell_type": "markdown",
   "metadata": {},
   "source": [
    "Imports"
   ]
  },
  {
   "cell_type": "code",
   "execution_count": 2,
   "metadata": {},
   "outputs": [
    {
     "name": "stdout",
     "output_type": "stream",
     "text": [
      "\u001b[33mDEPRECATION: Configuring installation scheme with distutils config files is deprecated and will no longer work in the near future. If you are using a Homebrew or Linuxbrew Python, please see discussion at https://github.com/Homebrew/homebrew-core/issues/76621\u001b[0m\u001b[33m\n",
      "\u001b[0mRequirement already satisfied: numpy in /opt/homebrew/lib/python3.9/site-packages (1.25.2)\n",
      "\u001b[33mDEPRECATION: Configuring installation scheme with distutils config files is deprecated and will no longer work in the near future. If you are using a Homebrew or Linuxbrew Python, please see discussion at https://github.com/Homebrew/homebrew-core/issues/76621\u001b[0m\u001b[33m\n",
      "\u001b[0m\n",
      "\u001b[1m[\u001b[0m\u001b[34;49mnotice\u001b[0m\u001b[1;39;49m]\u001b[0m\u001b[39;49m A new release of pip available: \u001b[0m\u001b[31;49m22.3.1\u001b[0m\u001b[39;49m -> \u001b[0m\u001b[32;49m23.2.1\u001b[0m\n",
      "\u001b[1m[\u001b[0m\u001b[34;49mnotice\u001b[0m\u001b[1;39;49m]\u001b[0m\u001b[39;49m To update, run: \u001b[0m\u001b[32;49mpython3.9 -m pip install --upgrade pip\u001b[0m\n"
     ]
    }
   ],
   "source": [
    "import sys\n",
    "!{sys.executable} -m pip install numpy\n",
    "import numpy as np"
   ]
  },
  {
   "cell_type": "markdown",
   "metadata": {},
   "source": [
    "Define initial weights and biases"
   ]
  },
  {
   "cell_type": "code",
   "execution_count": 3,
   "metadata": {},
   "outputs": [],
   "source": [
    "weights1 = [\n",
    "    [0.1, 0.3, 0.4],\n",
    "    [0.2, 0.2, 0.1]\n",
    "]\n",
    "biases1 = [\n",
    "    0.31416,\n",
    "    -0.27182,\n",
    "    0.186282\n",
    "]\n",
    "\n",
    "weights2 = [\n",
    "    [0.3, 0.1],\n",
    "    [0.5, 0.6],\n",
    "    [0.2, 0.7]\n",
    "]\n",
    "biases2 = [\n",
    "    1.6180,\n",
    "    0.1729\n",
    "]"
   ]
  },
  {
   "cell_type": "markdown",
   "metadata": {},
   "source": [
    "Define Sigmoid function"
   ]
  },
  {
   "cell_type": "code",
   "execution_count": 4,
   "metadata": {},
   "outputs": [],
   "source": [
    "def sigmoid(value):\n",
    "    return 1.0 / (1.0 + np.exp(-value))"
   ]
  },
  {
   "cell_type": "markdown",
   "metadata": {},
   "source": [
    "Define Sigmoid derivative"
   ]
  },
  {
   "cell_type": "code",
   "execution_count": 5,
   "metadata": {},
   "outputs": [],
   "source": [
    "def sigmoid_deriv(value):\n",
    "    return sigmoid(value) * (1 - sigmoid(value))"
   ]
  },
  {
   "cell_type": "markdown",
   "metadata": {},
   "source": [
    "Define cross-entropy derivative"
   ]
  },
  {
   "cell_type": "code",
   "execution_count": 6,
   "metadata": {},
   "outputs": [],
   "source": [
    "def cross_entropy_deriv(result, expected):\n",
    "    return (-1.0 * expected) / result"
   ]
  },
  {
   "cell_type": "markdown",
   "metadata": {},
   "source": [
    "Define things for this run"
   ]
  },
  {
   "cell_type": "code",
   "execution_count": 7,
   "metadata": {},
   "outputs": [],
   "source": [
    "learning_rate = 0.01\n",
    "sample_input = [0.1, 0.7]\n",
    "expected_output = [0.0, 1.0]"
   ]
  },
  {
   "cell_type": "markdown",
   "metadata": {},
   "source": [
    "Procedure"
   ]
  },
  {
   "cell_type": "code",
   "execution_count": 13,
   "metadata": {},
   "outputs": [
    {
     "name": "stdout",
     "output_type": "stream",
     "text": [
      "Original value of weights1:\n",
      "[[0.1, 0.3, 0.4], [0.2, 0.2, 0.1]]\n",
      "Original value of weights2:\n",
      "[[0.3, 0.1], [0.5, 0.6], [0.2, 0.7]]\n",
      "New value of weights1:\n",
      "[[0.10000687 0.30004271 0.40004888]\n",
      " [0.20004808 0.20029899 0.10034219]]\n",
      "New value of weights2:\n",
      "[[0.3        0.101749  ]\n",
      " [0.5        0.60135182]\n",
      " [0.2        0.70163373]]\n"
     ]
    }
   ],
   "source": [
    "# forward propagation input -> hidden layer\n",
    "dot_prod1 = np.dot(sample_input, weights1)\n",
    "#print(dot_prod1)\n",
    "biased1 = dot_prod1 + biases1\n",
    "#print(biased1)\n",
    "sigmoided1 = sigmoid(biased1)\n",
    "#print(sigmoided1)\n",
    "\n",
    "# forward propagation hidden layer -> output\n",
    "dot_prod2 = np.dot(sigmoided1, weights2)\n",
    "#print(dot_prod2)\n",
    "biased2 = dot_prod2 + biases2\n",
    "#print(biased2)\n",
    "sigmoided2 = sigmoid(biased2)\n",
    "#print(sigmoided2)\n",
    "\n",
    "# get cross-entropy for back propagation\n",
    "cross_entropyed = [cross_entropy_deriv(y, t) for y, t in zip(sigmoided2, expected_output)]\n",
    "#print(cross_entropyed)\n",
    "\n",
    "# back propagation output -> hidden layer\n",
    "weights2new = np.subtract (weights2, [\n",
    "    [(e * sigmoid_deriv(b) * s * learning_rate) for e, b in zip(cross_entropyed, biased2)] for s in sigmoided1\n",
    "])\n",
    "\n",
    "# back propagation hidden layer -> input\n",
    "cross_entropyed_total = [\n",
    "    ((cross_entropyed[0] * sigmoid_deriv(biased2[0]) * weights2new[0][0]) + (cross_entropyed[1] * sigmoid_deriv(biased2[1]) * weights2new[0][1])),\n",
    "    ((cross_entropyed[0] * sigmoid_deriv(biased2[0]) * weights2new[1][0]) + (cross_entropyed[1] * sigmoid_deriv(biased2[1]) * weights2new[1][1])),\n",
    "    ((cross_entropyed[0] * sigmoid_deriv(biased2[0]) * weights2new[2][0]) + (cross_entropyed[1] * sigmoid_deriv(biased2[1]) * weights2new[2][1]))\n",
    "]\n",
    "#print(cross_entropyed_total)\n",
    "weights1new = np.subtract(weights1, [\n",
    "    [(e * sigmoid_deriv(b) * s * learning_rate) for e, b in zip(cross_entropyed_total, biased1)] for s in sample_input\n",
    "])\n",
    "print(\"Original value of weights1:\\n{}\".format(weights1))\n",
    "print(\"Original value of weights2:\\n{}\".format(weights2))\n",
    "print(\"New value of weights1:\\n{}\".format(weights1new))\n",
    "print(\"New value of weights2:\\n{}\".format(weights2new))\n"
   ]
  }
 ],
 "metadata": {
  "kernelspec": {
   "display_name": "Python 3",
   "language": "python",
   "name": "python3"
  },
  "language_info": {
   "codemirror_mode": {
    "name": "ipython",
    "version": 3
   },
   "file_extension": ".py",
   "mimetype": "text/x-python",
   "name": "python",
   "nbconvert_exporter": "python",
   "pygments_lexer": "ipython3",
   "version": "3.9.16"
  },
  "orig_nbformat": 4
 },
 "nbformat": 4,
 "nbformat_minor": 2
}
